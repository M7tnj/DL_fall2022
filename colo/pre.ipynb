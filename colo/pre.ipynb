{
 "cells": [
  {
   "cell_type": "code",
   "execution_count": 12,
   "metadata": {},
   "outputs": [
    {
     "name": "stdout",
     "output_type": "stream",
     "text": [
      "Total missing values in DataFrame: 6830\n"
     ]
    }
   ],
   "source": [
    "import pandas as pd\n",
    "import numpy as np\n",
    "import openpyxl as opx\n",
    "\n",
    "book = opx.load_workbook(\"colorectal newest data.xlsx\")\n",
    "sheet = book.active\n",
    "\n",
    "df = pd.DataFrame(sheet.values)\n",
    "\n",
    "# missing values\n",
    "df = df.replace('', np.nan)\n",
    "\n",
    "\n",
    "total_missing_values = df.isnull().sum().sum()\n",
    "\n",
    "# total mv\n",
    "total_missing_values = df.isnull().sum().sum()\n",
    "\n",
    "# percentage of mv per column\n",
    "missing_percentage = pd.DataFrame((df.isnull().mean() * 100), columns=['mv percent per column'])\n",
    "missing_percentage['Feature'] = df.loc[0]\n",
    "missing_percentage.index = missing_percentage.reset_index(drop=True).index + 1\n",
    "\n",
    "with pd.ExcelWriter('missingD.xlsx') as writer:\n",
    "    missing_percentage.to_excel(writer, sheet_name='Sheet1', index=False)\n",
    "\n",
    "\n",
    "\n",
    "print(f\"Total missing values in DataFrame: {total_missing_values}\")\n",
    "\n"
   ]
  },
  {
   "cell_type": "code",
   "execution_count": 15,
   "metadata": {},
   "outputs": [
    {
     "name": "stdout",
     "output_type": "stream",
     "text": [
      "1398-02-23\n"
     ]
    }
   ],
   "source": [
    "# handeling\n",
    "\n",
    "\n"
   ]
  },
  {
   "cell_type": "code",
   "execution_count": 29,
   "metadata": {},
   "outputs": [
    {
     "data": {
      "text/plain": [
       "0                     Row\n",
       "1         addmission Date\n",
       "2                 Disease\n",
       "3             Unit number\n",
       "4                     Age\n",
       "             ...         \n",
       "61    metastasis interval\n",
       "62    recurrence interval\n",
       "63          Date of death\n",
       "64         DEATH INTERVAL\n",
       "65         Last follow up\n",
       "Name: 0, Length: 66, dtype: object"
      ]
     },
     "execution_count": 29,
     "metadata": {},
     "output_type": "execute_result"
    }
   ],
   "source": []
  },
  {
   "cell_type": "code",
   "execution_count": null,
   "metadata": {},
   "outputs": [],
   "source": []
  }
 ],
 "metadata": {
  "kernelspec": {
   "display_name": "Python 3",
   "language": "python",
   "name": "python3"
  },
  "language_info": {
   "codemirror_mode": {
    "name": "ipython",
    "version": 3
   },
   "file_extension": ".py",
   "mimetype": "text/x-python",
   "name": "python",
   "nbconvert_exporter": "python",
   "pygments_lexer": "ipython3",
   "version": "3.10.13"
  }
 },
 "nbformat": 4,
 "nbformat_minor": 2
}
