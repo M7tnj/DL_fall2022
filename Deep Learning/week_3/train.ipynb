{
 "cells": [
  {
   "cell_type": "markdown",
   "metadata": {},
   "source": [
    "## Stochastic Gradient Descent\n",
    "Use Keras and Tensorflow to train your first neural network."
   ]
  },
  {
   "cell_type": "markdown",
   "metadata": {},
   "source": [
    "## Introduction\n",
    "In the first two lessons, we learned how to build fully-connected networks out of stacks of dense layers. When first created, all of the network's weights are set randomly -- the network doesn't \"know\" anything yet. In this lesson we're going to see how to train a neural network; we're going to see how neural networks learn.\n",
    "\n",
    "As with all machine learning tasks, we begin with a set of training data. Each example in the training data consists of some features (the inputs) together with an expected target (the output). Training the network means adjusting its weights in such a way that it can transform the features into the target. In the 80 Cereals dataset, for instance, we want a network that can take each cereal's 'sugar', 'fiber', and 'protein' content and produce a prediction for that cereal's 'calories'. If we can successfully train a network to do that, its weights must represent in some way the relationship between those features and that target as expressed in the training data.\n",
    "\n",
    "\n",
    "## In addition to the training data, we need two more things:\n",
    "\n",
    "> A \"loss function\" that measures how good the network's predictions are.\n",
    "\n",
    "> An \"optimizer\" that can tell the network how to change its weights.\n",
    "\n",
    "## The Loss Function\n",
    "We've seen how to design an architecture for a network, but we haven't seen how to tell a network what problem to solve. This is the job of the loss function.\n",
    "\n",
    "The loss function measures the disparity between the the target's true value and the value the model predicts.\n",
    "\n",
    "Different problems call for different loss functions. We have been looking at regression problems, where the task is to predict some numerical value -- calories in 80 Cereals, rating in Red Wine Quality. Other regression tasks might be predicting the price of a house or the fuel efficiency of a car.\n",
    "\n",
    "A common loss function for regression problems is the mean absolute error or MAE. For each prediction y_pred, MAE measures the disparity from the true target y_true by an absolute difference abs(y_true - y_pred).\n",
    "\n",
    "The total MAE loss on a dataset is the mean of all these absolute differences."
   ]
  },
  {
   "attachments": {
    "image.png": {
     "image/png": "[encoded data removed]"
    }
   },
   "cell_type": "markdown",
   "metadata": {},
   "source": [
    "![image.png](attachment:image.png)\n",
    "The mean absolute error is the average length between the fitted curve and the data points.\n",
    "\n",
    "Besides MAE, other loss functions you might see for regression problems are the mean-squared error (MSE) or the Huber loss (both available in Keras).\n",
    "\n",
    "During training, the model will use the loss function as a guide for finding the correct values of its weights (lower loss is better). In other words, the loss function tells the network its objective."
   ]
  },
  {
   "cell_type": "markdown",
   "metadata": {},
   "source": [
    "The Optimizer - Stochastic Gradient Descent\n",
    "We've described the problem we want the network to solve, but now we need to say how to solve it. This is the job of the optimizer. The optimizer is an algorithm that adjusts the weights to minimize the loss.\n",
    "\n",
    "Virtually all of the optimization algorithms used in deep learning belong to a family called stochastic gradient descent. They are iterative algorithms that train a network in steps. One step of training goes like this:\n",
    "\n",
    "> 1) Sample some training data and run it through the network to make predictions.\n",
    "> 2) Measure the loss between the predictions and the true values.\n",
    "> 3) Finally, adjust the weights in a direction that makes the loss smaller.\n",
    "\n",
    "Then just do this over and over until the loss is as small as you like (or until it won't decrease any further.)\n",
    "\n",
    "![rFI1tIk.gif](attachment:rFI1tIk.gif)\n",
    "Training a neural network with Stochastic Gradient Descent."
   ]
  },
  {
   "cell_type": "markdown",
   "metadata": {},
   "source": [
    "Each iteration's sample of training data is called a minibatch (or often just \"batch\"), while a complete round of the training data is called an epoch. The number of epochs you train for is how many times the network will see each training example.\n",
    "\n",
    "The animation shows the linear model from Lesson 1 being trained with SGD. The pale red dots depict the entire training set, while the solid red dots are the minibatches. Every time SGD sees a new minibatch, it will shift the weights (w the slope and b the y-intercept) toward their correct values on that batch. Batch after batch, the line eventually converges to its best fit. You can see that the loss gets smaller as the weights get closer to their true values.\n",
    "\n",
    "## Learning Rate and Batch Size\n",
    "Notice that the line only makes a small shift in the direction of each batch (instead of moving all the way). The size of these shifts is determined by the learning rate. A smaller learning rate means the network needs to see more minibatches before its weights converge to their best values.\n",
    "\n",
    "The learning rate and the size of the minibatches are the two parameters that have the largest effect on how the SGD training proceeds. Their interaction is often subtle and the right choice for these parameters isn't always obvious. (We'll explore these effects in the exercise.)\n",
    "\n",
    "Fortunately, for most work it won't be necessary to do an extensive hyperparameter search to get satisfactory results. Adam is an SGD algorithm that has an adaptive learning rate that makes it suitable for most problems without any parameter tuning (it is \"self tuning\", in a sense). Adam is a great general-purpose optimizer.\n",
    "\n",
    "## Adding the Loss and Optimizer\n",
    "After defining a model, you can add a loss function and optimizer with the model's compile method:\n",
    "\n",
    "```python\n",
    "model.compile(\n",
    "    optimizer=\"adam\",\n",
    "    loss=\"mae\",\n",
    ")\n",
    "```\n",
    "Notice that we are able to specify the loss and optimizer with just a string. You can also access these directly through the Keras API -- if you wanted to tune parameters, for instance -- but for us, the defaults will work fine.\n",
    "\n",
    "## What's In a Name?\n",
    "> The gradient is a vector that tells us in what direction the weights need to go. More precisely, it tells us how to change the weights to make the loss change fastest. We call our process gradient descent because it uses the gradient to descend the loss curve towards a minimum. Stochastic means \"determined by chance.\" Our training is stochastic because the minibatches are random samples from the dataset. And that's why it's called SGD!\n"
   ]
  },
  {
   "cell_type": "markdown",
   "metadata": {},
   "source": [
    "## Example - Red Wine Quality\n",
    "Now we know everything we need to start training deep learning models. So let's see it in action! We'll use the Red Wine Quality dataset.\n",
    "\n",
    "This dataset consists of physiochemical measurements from about 1600 Portuguese red wines. Also included is a quality rating for each wine from blind taste-tests. How well can we predict a wine's perceived quality from these measurements?\n",
    "\n",
    "We've put all of the data preparation into this next hidden cell. It's not essential to what follows so feel free to skip it. One thing you might note for now though is that we've rescaled each feature to lie in the interval  [0,1]\n",
    " . As we'll discuss more in Lesson 5, neural networks tend to perform best when their inputs are on a common scale."
   ]
  },
  {
   "cell_type": "code",
   "execution_count": 1,
   "metadata": {},
   "outputs": [
    {
     "data": {
      "text/html": [
       "<div>\n",
       "<style scoped>\n",
       "    .dataframe tbody tr th:only-of-type {\n",
       "        vertical-align: middle;\n",
       "    }\n",
       "\n",
       "    .dataframe tbody tr th {\n",
       "        vertical-align: top;\n",
       "    }\n",
       "\n",
       "    .dataframe thead th {\n",
       "        text-align: right;\n",
       "    }\n",
       "</style>\n",
       "<table border=\"1\" class=\"dataframe\">\n",
       "  <thead>\n",
       "    <tr style=\"text-align: right;\">\n",
       "      <th></th>\n",
       "      <th>fixed acidity</th>\n",
       "      <th>volatile acidity</th>\n",
       "      <th>citric acid</th>\n",
       "      <th>residual sugar</th>\n",
       "      <th>chlorides</th>\n",
       "      <th>free sulfur dioxide</th>\n",
       "      <th>total sulfur dioxide</th>\n",
       "      <th>density</th>\n",
       "      <th>pH</th>\n",
       "      <th>sulphates</th>\n",
       "      <th>alcohol</th>\n",
       "      <th>quality</th>\n",
       "    </tr>\n",
       "  </thead>\n",
       "  <tbody>\n",
       "    <tr>\n",
       "      <th>1109</th>\n",
       "      <td>10.8</td>\n",
       "      <td>0.470</td>\n",
       "      <td>0.43</td>\n",
       "      <td>2.10</td>\n",
       "      <td>0.171</td>\n",
       "      <td>27.0</td>\n",
       "      <td>66.0</td>\n",
       "      <td>0.99820</td>\n",
       "      <td>3.17</td>\n",
       "      <td>0.76</td>\n",
       "      <td>10.8</td>\n",
       "      <td>6</td>\n",
       "    </tr>\n",
       "    <tr>\n",
       "      <th>1032</th>\n",
       "      <td>8.1</td>\n",
       "      <td>0.820</td>\n",
       "      <td>0.00</td>\n",
       "      <td>4.10</td>\n",
       "      <td>0.095</td>\n",
       "      <td>5.0</td>\n",
       "      <td>14.0</td>\n",
       "      <td>0.99854</td>\n",
       "      <td>3.36</td>\n",
       "      <td>0.53</td>\n",
       "      <td>9.6</td>\n",
       "      <td>5</td>\n",
       "    </tr>\n",
       "    <tr>\n",
       "      <th>1002</th>\n",
       "      <td>9.1</td>\n",
       "      <td>0.290</td>\n",
       "      <td>0.33</td>\n",
       "      <td>2.05</td>\n",
       "      <td>0.063</td>\n",
       "      <td>13.0</td>\n",
       "      <td>27.0</td>\n",
       "      <td>0.99516</td>\n",
       "      <td>3.26</td>\n",
       "      <td>0.84</td>\n",
       "      <td>11.7</td>\n",
       "      <td>7</td>\n",
       "    </tr>\n",
       "    <tr>\n",
       "      <th>487</th>\n",
       "      <td>10.2</td>\n",
       "      <td>0.645</td>\n",
       "      <td>0.36</td>\n",
       "      <td>1.80</td>\n",
       "      <td>0.053</td>\n",
       "      <td>5.0</td>\n",
       "      <td>14.0</td>\n",
       "      <td>0.99820</td>\n",
       "      <td>3.17</td>\n",
       "      <td>0.42</td>\n",
       "      <td>10.0</td>\n",
       "      <td>6</td>\n",
       "    </tr>\n",
       "  </tbody>\n",
       "</table>\n",
       "</div>"
      ],
      "text/plain": [
       "      fixed acidity  volatile acidity  citric acid  residual sugar  chlorides  \\\n",
       "1109           10.8             0.470         0.43            2.10      0.171   \n",
       "1032            8.1             0.820         0.00            4.10      0.095   \n",
       "1002            9.1             0.290         0.33            2.05      0.063   \n",
       "487            10.2             0.645         0.36            1.80      0.053   \n",
       "\n",
       "      free sulfur dioxide  total sulfur dioxide  density    pH  sulphates  \\\n",
       "1109                 27.0                  66.0  0.99820  3.17       0.76   \n",
       "1032                  5.0                  14.0  0.99854  3.36       0.53   \n",
       "1002                 13.0                  27.0  0.99516  3.26       0.84   \n",
       "487                   5.0                  14.0  0.99820  3.17       0.42   \n",
       "\n",
       "      alcohol  quality  \n",
       "1109     10.8        6  \n",
       "1032      9.6        5  \n",
       "1002     11.7        7  \n",
       "487      10.0        6  "
      ]
     },
     "metadata": {},
     "output_type": "display_data"
    }
   ],
   "source": [
    "import pandas as pd\n",
    "from IPython.display import display\n",
    "\n",
    "red_wine = pd.read_csv('red-wine.csv')\n",
    "\n",
    "# Create training and validation splits\n",
    "df_train = red_wine.sample(frac=0.7, random_state=0)\n",
    "df_valid = red_wine.drop(df_train.index)\n",
    "display(df_train.head(4))\n",
    "\n",
    "# Scale to [0, 1]\n",
    "max_ = df_train.max(axis=0)\n",
    "min_ = df_train.min(axis=0)\n",
    "df_train = (df_train - min_) / (max_ - min_)\n",
    "df_valid = (df_valid - min_) / (max_ - min_)\n",
    "\n",
    "# Split features and target\n",
    "X_train = df_train.drop('quality', axis=1)\n",
    "X_valid = df_valid.drop('quality', axis=1)\n",
    "y_train = df_train['quality']\n",
    "y_valid = df_valid['quality']\n",
    "\n"
   ]
  },
  {
   "cell_type": "markdown",
   "metadata": {},
   "source": [
    "How many inputs should this network have? We can discover this by looking at the number of columns in the data matrix. Be sure not to include the target ('quality') here -- only the input features."
   ]
  },
  {
   "cell_type": "code",
   "execution_count": 10,
   "metadata": {},
   "outputs": [
    {
     "name": "stdout",
     "output_type": "stream",
     "text": [
      "(1119, 11)\n",
      "(1599, 12)\n"
     ]
    }
   ],
   "source": [
    "print(X_train.shape)\n",
    "print(red_wine.shape)"
   ]
  },
  {
   "cell_type": "markdown",
   "metadata": {},
   "source": [
    "Eleven columns means eleven inputs.\n",
    "\n",
    "We've chosen a three-layer network with over 1500 neurons. This network should be capable of learning fairly complex relationships in the data."
   ]
  },
  {
   "cell_type": "code",
   "execution_count": 3,
   "metadata": {},
   "outputs": [
    {
     "name": "stdout",
     "output_type": "stream",
     "text": [
      "Requirement already satisfied: TensorRT in /usr/local/python/3.10.8/lib/python3.10/site-packages (8.6.1.post1)\n",
      "Note: you may need to restart the kernel to use updated packages.\n"
     ]
    }
   ],
   "source": [
    "pip install TensorRT"
   ]
  },
  {
   "cell_type": "code",
   "execution_count": 6,
   "metadata": {},
   "outputs": [],
   "source": [
    "from tensorflow import keras\n",
    "from tensorflow.keras import layers\n",
    "\n",
    "model = keras.Sequential([\n",
    "    layers.Dense(units = 512, input_shape = [11]),\n",
    "    layers.Activation('relu'),\n",
    "    layers.Dense(units = 512),\n",
    "    layers.Activation('relu'),\n",
    "    layers.Dense(units = 512),\n",
    "    layers.Activation('relu'),\n",
    "\n",
    "    layers.Dense(1),\n",
    "])\n",
    "\n",
    "model.compile(\n",
    "    optimizer = 'adam',\n",
    "    loss = 'mae',\n",
    ")"
   ]
  },
  {
   "cell_type": "markdown",
   "metadata": {},
   "source": [
    "Now we're ready to start the training! We've told Keras to feed the optimizer 256 rows of the training data at a time (the batch_size) and to do that 10 times all the way through the dataset (the epochs)."
   ]
  },
  {
   "cell_type": "code",
   "execution_count": 14,
   "metadata": {},
   "outputs": [
    {
     "name": "stdout",
     "output_type": "stream",
     "text": [
      "Epoch 1/10\n",
      "5/5 [==============================] - 0s 30ms/step - loss: 0.0768 - val_loss: 0.0949\n",
      "Epoch 2/10\n",
      "5/5 [==============================] - 0s 19ms/step - loss: 0.0767 - val_loss: 0.0952\n",
      "Epoch 3/10\n",
      "5/5 [==============================] - 0s 25ms/step - loss: 0.0794 - val_loss: 0.0946\n",
      "Epoch 4/10\n",
      "5/5 [==============================] - 0s 41ms/step - loss: 0.0749 - val_loss: 0.0958\n",
      "Epoch 5/10\n",
      "5/5 [==============================] - 0s 30ms/step - loss: 0.0743 - val_loss: 0.0944\n",
      "Epoch 6/10\n",
      "5/5 [==============================] - 0s 19ms/step - loss: 0.0745 - val_loss: 0.0928\n",
      "Epoch 7/10\n",
      "5/5 [==============================] - 0s 19ms/step - loss: 0.0746 - val_loss: 0.0962\n",
      "Epoch 8/10\n",
      "1/5 [=====>........................] - ETA: 0s - loss: 0.0697"
     ]
    },
    {
     "name": "stdout",
     "output_type": "stream",
     "text": [
      "5/5 [==============================] - 0s 20ms/step - loss: 0.0740 - val_loss: 0.0927\n",
      "Epoch 9/10\n",
      "5/5 [==============================] - 0s 18ms/step - loss: 0.0729 - val_loss: 0.0943\n",
      "Epoch 10/10\n",
      "5/5 [==============================] - 0s 18ms/step - loss: 0.0732 - val_loss: 0.0929\n",
      "Epoch 1/20\n",
      "5/5 [==============================] - 0s 25ms/step - loss: 0.0737 - val_loss: 0.0972\n",
      "Epoch 2/20\n",
      "5/5 [==============================] - 0s 19ms/step - loss: 0.0742 - val_loss: 0.0991\n",
      "Epoch 3/20\n",
      "5/5 [==============================] - 0s 19ms/step - loss: 0.0724 - val_loss: 0.0933\n",
      "Epoch 4/20\n",
      "5/5 [==============================] - 0s 18ms/step - loss: 0.0735 - val_loss: 0.0921\n",
      "Epoch 5/20\n",
      "5/5 [==============================] - 0s 19ms/step - loss: 0.0702 - val_loss: 0.0939\n",
      "Epoch 6/20\n",
      "5/5 [==============================] - 0s 21ms/step - loss: 0.0727 - val_loss: 0.0951\n",
      "Epoch 7/20\n",
      "5/5 [==============================] - 0s 21ms/step - loss: 0.0710 - val_loss: 0.0940\n",
      "Epoch 8/20\n",
      "5/5 [==============================] - 0s 25ms/step - loss: 0.0706 - val_loss: 0.0927\n",
      "Epoch 9/20\n",
      "5/5 [==============================] - 0s 18ms/step - loss: 0.0698 - val_loss: 0.0912\n",
      "Epoch 10/20\n",
      "5/5 [==============================] - 0s 18ms/step - loss: 0.0697 - val_loss: 0.0942\n",
      "Epoch 11/20\n",
      "5/5 [==============================] - 0s 19ms/step - loss: 0.0685 - val_loss: 0.0937\n",
      "Epoch 12/20\n",
      "5/5 [==============================] - 0s 19ms/step - loss: 0.0693 - val_loss: 0.0953\n",
      "Epoch 13/20\n",
      "5/5 [==============================] - 0s 19ms/step - loss: 0.0734 - val_loss: 0.0965\n",
      "Epoch 14/20\n",
      "5/5 [==============================] - 0s 19ms/step - loss: 0.0712 - val_loss: 0.0947\n",
      "Epoch 15/20\n",
      "5/5 [==============================] - 0s 18ms/step - loss: 0.0687 - val_loss: 0.0944\n",
      "Epoch 16/20\n",
      "5/5 [==============================] - 0s 24ms/step - loss: 0.0689 - val_loss: 0.0937\n",
      "Epoch 17/20\n",
      "5/5 [==============================] - 0s 18ms/step - loss: 0.0681 - val_loss: 0.1000\n",
      "Epoch 18/20\n",
      "5/5 [==============================] - 0s 18ms/step - loss: 0.0723 - val_loss: 0.0992\n",
      "Epoch 19/20\n",
      "5/5 [==============================] - 0s 19ms/step - loss: 0.0703 - val_loss: 0.0931\n",
      "Epoch 20/20\n",
      "5/5 [==============================] - 0s 19ms/step - loss: 0.0673 - val_loss: 0.0966\n",
      "Epoch 1/10\n",
      "3/3 [==============================] - 0s 54ms/step - loss: 0.0692 - val_loss: 0.0963\n",
      "Epoch 2/10\n",
      "3/3 [==============================] - 0s 39ms/step - loss: 0.0692 - val_loss: 0.0935\n",
      "Epoch 3/10\n",
      "3/3 [==============================] - 0s 45ms/step - loss: 0.0646 - val_loss: 0.0928\n",
      "Epoch 4/10\n",
      "3/3 [==============================] - 0s 49ms/step - loss: 0.0642 - val_loss: 0.0955\n",
      "Epoch 5/10\n",
      "3/3 [==============================] - 0s 36ms/step - loss: 0.0654 - val_loss: 0.0975\n",
      "Epoch 6/10\n",
      "3/3 [==============================] - 0s 30ms/step - loss: 0.0655 - val_loss: 0.0936\n",
      "Epoch 7/10\n",
      "3/3 [==============================] - 0s 29ms/step - loss: 0.0637 - val_loss: 0.0934\n",
      "Epoch 8/10\n",
      "3/3 [==============================] - 0s 30ms/step - loss: 0.0656 - val_loss: 0.0926\n",
      "Epoch 9/10\n",
      "3/3 [==============================] - 0s 31ms/step - loss: 0.0644 - val_loss: 0.0938\n",
      "Epoch 10/10\n",
      "3/3 [==============================] - 0s 37ms/step - loss: 0.0630 - val_loss: 0.0975\n",
      "Epoch 1/10\n",
      "5/5 [==============================] - 0s 27ms/step - loss: 0.0631 - val_loss: 0.0980\n",
      "Epoch 2/10\n",
      "5/5 [==============================] - 0s 19ms/step - loss: 0.0651 - val_loss: 0.0939\n",
      "Epoch 3/10\n",
      "5/5 [==============================] - 0s 19ms/step - loss: 0.0622 - val_loss: 0.0951\n",
      "Epoch 4/10\n",
      "5/5 [==============================] - 0s 19ms/step - loss: 0.0631 - val_loss: 0.0952\n",
      "Epoch 5/10\n",
      "5/5 [==============================] - 0s 19ms/step - loss: 0.0672 - val_loss: 0.0971\n",
      "Epoch 6/10\n",
      "5/5 [==============================] - 0s 18ms/step - loss: 0.0645 - val_loss: 0.0976\n",
      "Epoch 7/10\n",
      "5/5 [==============================] - 0s 24ms/step - loss: 0.0651 - val_loss: 0.0957\n",
      "Epoch 8/10\n",
      "5/5 [==============================] - 0s 24ms/step - loss: 0.0659 - val_loss: 0.0964\n",
      "Epoch 9/10\n",
      "5/5 [==============================] - 0s 19ms/step - loss: 0.0684 - val_loss: 0.0956\n",
      "Epoch 10/10\n",
      "5/5 [==============================] - 0s 18ms/step - loss: 0.0655 - val_loss: 0.0947\n"
     ]
    }
   ],
   "source": [
    "history1 = model.fit(\n",
    "    X_train, y_train,\n",
    "    validation_data=(X_valid, y_valid),\n",
    "    batch_size=256,\n",
    "    epochs=10,\n",
    ")\n",
    "history2 = model.fit(\n",
    "    X_train, y_train,\n",
    "    validation_data=(X_valid, y_valid),\n",
    "    batch_size=256,\n",
    "    epochs=20,\n",
    ")\n",
    "\n",
    "history3 = model.fit(\n",
    "    X_train, y_train,\n",
    "    validation_data=(X_valid, y_valid),\n",
    "    batch_size=400,\n",
    "    epochs=10,\n",
    ")\n",
    "\n",
    "history4 = model.fit(\n",
    "    X_train, y_train,\n",
    "    validation_data=(X_valid, y_valid),\n",
    "    batch_size=256,\n",
    "    epochs=10,\n",
    ")"
   ]
  },
  {
   "cell_type": "markdown",
   "metadata": {},
   "source": [
    "You can see that Keras will keep you updated on the loss as the model trains.\n",
    "\n",
    "Often, a better way to view the loss though is to plot it. The fit method in fact keeps a record of the loss produced during training in a History object. We'll convert the data to a Pandas dataframe, which makes the plotting easy."
   ]
  },
  {
   "cell_type": "code",
   "execution_count": 15,
   "metadata": {},
   "outputs": [
    {
     "data": {
      "text/plain": [
       "<Axes: >"
      ]
     },
     "execution_count": 15,
     "metadata": {},
     "output_type": "execute_result"
    },
    {
     "data": {
      "image/png": "[encoded data removed]",
      "text/plain": [
       "<Figure size 640x480 with 1 Axes>"
      ]
     },
     "metadata": {},
     "output_type": "display_data"
    }
   ],
   "source": [
    "import pandas as pd\n",
    "import matplotlib.pyplot as plt\n",
    "\n",
    "# convert the training history to a dataframe\n",
    "history1_df = pd.DataFrame(history1.history)\n",
    "# use Pandas native plot method\n",
    "history1_df['loss'].plot();\n",
    "\n",
    "# convert the training history to a dataframe\n",
    "history2_df = pd.DataFrame(history2.history)\n",
    "# use Pandas native plot method\n",
    "history2_df['loss'].plot()\n",
    "\n",
    "# convert the training history to a dataframe\n",
    "history3_df = pd.DataFrame(history3.history)\n",
    "# use Pandas native plot method\n",
    "history3_df['loss'].plot();\n",
    "\n",
    "# convert the training history to a dataframe\n",
    "history4_df = pd.DataFrame(history4.history)\n",
    "# use Pandas native plot method\n",
    "history4_df['loss'].plot()"
   ]
  },
  {
   "cell_type": "code",
   "execution_count": null,
   "metadata": {},
   "outputs": [],
   "source": []
  }
 ],
 "metadata": {
  "kernelspec": {
   "display_name": "Python 3",
   "language": "python",
   "name": "python3"
  },
  "language_info": {
   "codemirror_mode": {
    "name": "ipython",
    "version": 3
   },
   "file_extension": ".py",
   "mimetype": "text/x-python",
   "name": "python",
   "nbconvert_exporter": "python",
   "pygments_lexer": "ipython3",
   "version": "3.10.8"
  }
 },
 "nbformat": 4,
 "nbformat_minor": 2
}
